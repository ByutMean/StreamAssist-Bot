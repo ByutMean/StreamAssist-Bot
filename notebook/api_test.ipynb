{
 "cells": [
  {
   "cell_type": "code",
   "execution_count": 1,
   "metadata": {},
   "outputs": [],
   "source": [
    "import pandas as pd \n",
    "data = pd.read_csv('q_list.csv')\n"
   ]
  },
  {
   "cell_type": "code",
   "execution_count": 2,
   "metadata": {},
   "outputs": [
    {
     "data": {
      "text/plain": [
       "'c:\\\\Users\\\\AAA\\\\Desktop\\\\챗봇 프로젝트\\\\chimchakman-chatbot'"
      ]
     },
     "execution_count": 2,
     "metadata": {},
     "output_type": "execute_result"
    }
   ],
   "source": [
    "import os\n",
    "os.getcwd()"
   ]
  },
  {
   "cell_type": "code",
   "execution_count": 2,
   "metadata": {},
   "outputs": [],
   "source": [
    "from langchain.chat_models import ChatOpenAI\n",
    "from langchain.embeddings import OpenAIEmbeddings\n",
    "from langchain.prompts import PromptTemplate\n",
    "from langchain.utils.math import cosine_similarity\n",
    "from langchain_core.output_parsers import StrOutputParser\n",
    "from langchain_core.runnables import RunnableLambda, RunnablePassthrough\n"
   ]
  },
  {
   "cell_type": "code",
   "execution_count": 4,
   "metadata": {},
   "outputs": [],
   "source": [
    "quesition_list=list(data.question)"
   ]
  },
  {
   "cell_type": "code",
   "execution_count": null,
   "metadata": {},
   "outputs": [],
   "source": []
  },
  {
   "cell_type": "code",
   "execution_count": 24,
   "metadata": {},
   "outputs": [
    {
     "name": "stdout",
     "output_type": "stream",
     "text": [
      "질문 :  금연 잘 되어가나요?\n",
      "답변 :  금연을 잘 지키는 것은 많은 사람들에게 어려운 일이지만, 몇 가지 팁을 따라가면 도움이 될 수 있습니다. 일단 목표를 설정하고 그 목표에 대한 동기부여를 유지하는 것이 중요합니다. 또한, 습관적으로 담배를 피우는 상황을 피하고, 대체 수단을 찾아두는 것도 도움이 될 수 있습니다. 금연을 위한 치료나 상담을 받는 것도 도움이 될 수 있습니다. 자신에게 잘 맞는 방법을 찾아가며 꾸준히 노력하면 금연이 잘 되어갈 수 있습니다.\n"
     ]
    }
   ],
   "source": [
    "from openai import OpenAI\n",
    "import random\n",
    "ran_q= random.randint(0,90)\n",
    "client = OpenAI(api_key ='<YOUR_API_KEY')\n",
    "query = quesition_list[ran_q]\n",
    "message = [{\n",
    "            'role' : 'user',\n",
    "            'content' : query}\n",
    "            ]\n",
    "completion = client.chat.completions.create(model='gpt-3.5-turbo', messages=message)\n",
    "response_text = completion.choices[0].message.content\n",
    "\n",
    "print('질문 : ',query)\n",
    "print('답변 : ', response_text)"
   ]
  },
  {
   "cell_type": "code",
   "execution_count": 28,
   "metadata": {},
   "outputs": [
    {
     "name": "stdout",
     "output_type": "stream",
     "text": [
      "질문 :  비방날(방송 안하는 날)에는 뭐하시나요? \n",
      "답변 :  비방날에는 주로 책을 읽거나 영화를 보며 쉬는 시간을 갖습니다. 또는 가족이나 친구들과 함께 시간을 보내기도 하며, 가끔은 산책을 하거나 요가를 하며 몸과 마음을 편안하게 만드는 것을 즐깁니다. 또는 요리를 하거나 취미활동을 즐기는 등 다양한 방법으로 시간을 보내고 있습니다.\n"
     ]
    }
   ],
   "source": [
    "message = [{\n",
    "            'role' : 'user',\n",
    "            'content' : quesition_list[75]}\n",
    "            ]\n",
    "completion = client.chat.completions.create(model='gpt-3.5-turbo', messages=message)\n",
    "response_text = completion.choices[0].message.content\n",
    "\n",
    "print('질문 : ',quesition_list[75])\n",
    "print('답변 : ', response_text)"
   ]
  },
  {
   "cell_type": "code",
   "execution_count": 30,
   "metadata": {},
   "outputs": [
    {
     "name": "stdout",
     "output_type": "stream",
     "text": [
      "질문 :  절필을 결심하게된 계기는 무엇인가요?\n",
      "답변 :  제 글을 읽고 계시는 여러분에게 좀 더 나과 자신의 생각과 감정을 표현하고자 하는 욕구였습니다. 또한, 글쓰기를 통해 좀 더 나을 수 있는 자기 성장의 기회를 얻고 싶었기 때문입니다.\n"
     ]
    }
   ],
   "source": [
    "message = [{\n",
    "            'role' : 'user',\n",
    "            'content' : quesition_list[10]}\n",
    "            ]\n",
    "completion = client.chat.completions.create(model='gpt-3.5-turbo', messages=message)\n",
    "response_text = completion.choices[0].message.content\n",
    "\n",
    "print('질문 : ',quesition_list[10])\n",
    "print('답변 : ', response_text)"
   ]
  },
  {
   "cell_type": "code",
   "execution_count": 27,
   "metadata": {},
   "outputs": [
    {
     "name": "stdout",
     "output_type": "stream",
     "text": [
      "질문 :  소영이가 아빠는 왜 집에서 노냐고 물어본 적 없나요?\n",
      "답변 :  사람들은 때때로 질문이나 행동이 다른 사람을 불편하게 할 수 있기 때문에, 꼭 필요한 경우가 아니라면 다른 사람에게 왜 그런 질문을 하는지 신중히 생각하는 것이 중요합니다. 소영이가 아빠에게 집에서 노는 이유를 물어보는 것은 그 이유가 중요한 정보가 될 수도 있지만, 때로는 다소 민감한 질문일 수도 있습니다. 그렇기 때문에 존중하고 신중하게 대해주어야 합니다. 그래도 궁금하다면 적절한 시기와 방법으로 물어보는 것이 좋을 것입니다.\n"
     ]
    }
   ],
   "source": [
    "message = [{\n",
    "            'role' : 'user',\n",
    "            'content' : quesition_list[25]}\n",
    "            ]\n",
    "completion = client.chat.completions.create(model='gpt-3.5-turbo', messages=message)\n",
    "response_text = completion.choices[0].message.content\n",
    "\n",
    "print('질문 : ',quesition_list[25])\n",
    "print('답변 : ', response_text)"
   ]
  },
  {
   "cell_type": "code",
   "execution_count": 9,
   "metadata": {},
   "outputs": [
    {
     "name": "stdout",
     "output_type": "stream",
     "text": [
      "질문 :  오프라인 팬미팅 안하시나요?\n",
      "답변 :  죄송하지만 저는 실제로 존재하는 인물이 아니기 때문에 오프라인 팬미팅을 진행할 수 없습니다. 하지만 온라인을 통해 소통하고 정보를 공유할 수 있습니다. 부디 양해해주시기 바랍니다.\n"
     ]
    }
   ],
   "source": [
    "message = [{\n",
    "            'role' : 'user',\n",
    "            'content' : quesition_list[44]}\n",
    "            ]\n",
    "completion = client.chat.completions.create(model='gpt-3.5-turbo', messages=message)\n",
    "response_text = completion.choices[0].message.content\n",
    "\n",
    "print('질문 : ',quesition_list[44])\n",
    "print('답변 : ', response_text)"
   ]
  },
  {
   "cell_type": "code",
   "execution_count": 10,
   "metadata": {},
   "outputs": [
    {
     "name": "stdout",
     "output_type": "stream",
     "text": [
      "질문 :  소속이 어디인가요?\n",
      "답변 :  저는 디지털 비서로서 seAR아카데미에 소속되어 있습니다.\n"
     ]
    }
   ],
   "source": [
    "message = [{\n",
    "            'role' : 'user',\n",
    "            'content' : quesition_list[91]}\n",
    "            ]\n",
    "completion = client.chat.completions.create(model='gpt-3.5-turbo', messages=message)\n",
    "response_text = completion.choices[0].message.content\n",
    "\n",
    "print('질문 : ',quesition_list[91])\n",
    "print('답변 : ', response_text)"
   ]
  },
  {
   "cell_type": "code",
   "execution_count": null,
   "metadata": {},
   "outputs": [],
   "source": []
  }
 ],
 "metadata": {
  "kernelspec": {
   "display_name": "py39",
   "language": "python",
   "name": "python3"
  },
  "language_info": {
   "codemirror_mode": {
    "name": "ipython",
    "version": 3
   },
   "file_extension": ".py",
   "mimetype": "text/x-python",
   "name": "python",
   "nbconvert_exporter": "python",
   "pygments_lexer": "ipython3",
   "version": "3.9.0"
  }
 },
 "nbformat": 4,
 "nbformat_minor": 2
}
