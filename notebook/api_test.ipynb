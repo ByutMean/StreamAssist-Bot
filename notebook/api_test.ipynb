{
 "cells": [
  {
   "cell_type": "code",
   "execution_count": null,
   "metadata": {},
   "outputs": [],
   "source": [
    "import pandas as pd \n",
    "data = pd.read_csv('q_list.csv')\n"
   ]
  },
  {
   "cell_type": "code",
   "execution_count": null,
   "metadata": {},
   "outputs": [],
   "source": [
    "from langchain.chat_models import ChatOpenAI\n",
    "from langchain.embeddings import OpenAIEmbeddings\n",
    "from langchain.prompts import PromptTemplate\n",
    "from langchain.utils.math import cosine_similarity\n",
    "from langchain_core.output_parsers import StrOutputParser\n",
    "from langchain_core.runnables import RunnableLambda, RunnablePassthrough"
   ]
  },
  {
   "cell_type": "code",
   "execution_count": null,
   "metadata": {},
   "outputs": [],
   "source": [
    "quesition_list=list(data.question)"
   ]
  },
  {
   "cell_type": "code",
   "execution_count": null,
   "metadata": {},
   "outputs": [],
   "source": [
    "# Read API Key \n",
    "with open(\"../openai_api.txt\", \"r\") as f: \n",
    "    api_key = f.readline()\n",
    "    f.close()"
   ]
  },
  {
   "cell_type": "code",
   "execution_count": null,
   "metadata": {},
   "outputs": [],
   "source": [
    "from openai import OpenAI\n",
    "import random\n",
    "ran_q= random.randint(0,90)\n",
    "client = OpenAI(api_key =api_key)\n",
    "query = quesition_list[ran_q]\n",
    "message = [{\n",
    "            'role' : 'user',\n",
    "            'content' : query}\n",
    "            ]\n",
    "completion = client.chat.completions.create(model='gpt-3.5-turbo', messages=message)\n",
    "response_text = completion.choices[0].message.content\n",
    "\n",
    "print('질문 : ',query)\n",
    "print('답변 : ', response_text)"
   ]
  },
  {
   "cell_type": "code",
   "execution_count": null,
   "metadata": {},
   "outputs": [],
   "source": [
    "message = [{\n",
    "            'role' : 'user',\n",
    "            'content' : quesition_list[75]}\n",
    "            ]\n",
    "completion = client.chat.completions.create(model='gpt-3.5-turbo', messages=message)\n",
    "response_text = completion.choices[0].message.content\n",
    "\n",
    "print('질문 : ',quesition_list[75])\n",
    "print('답변 : ', response_text)"
   ]
  },
  {
   "cell_type": "code",
   "execution_count": null,
   "metadata": {},
   "outputs": [],
   "source": [
    "message = [{\n",
    "            'role' : 'user',\n",
    "            'content' : quesition_list[10]}\n",
    "            ]\n",
    "completion = client.chat.completions.create(model='gpt-3.5-turbo', messages=message)\n",
    "response_text = completion.choices[0].message.content\n",
    "\n",
    "print('질문 : ',quesition_list[10])\n",
    "print('답변 : ', response_text)"
   ]
  },
  {
   "cell_type": "code",
   "execution_count": null,
   "metadata": {},
   "outputs": [],
   "source": [
    "message = [{\n",
    "            'role' : 'user',\n",
    "            'content' : quesition_list[25]}\n",
    "            ]\n",
    "completion = client.chat.completions.create(model='gpt-3.5-turbo', messages=message)\n",
    "response_text = completion.choices[0].message.content\n",
    "\n",
    "print('질문 : ',quesition_list[25])\n",
    "print('답변 : ', response_text)"
   ]
  },
  {
   "cell_type": "code",
   "execution_count": null,
   "metadata": {},
   "outputs": [],
   "source": [
    "message = [{\n",
    "            'role' : 'user',\n",
    "            'content' : quesition_list[44]}\n",
    "            ]\n",
    "completion = client.chat.completions.create(model='gpt-3.5-turbo', messages=message)\n",
    "response_text = completion.choices[0].message.content\n",
    "\n",
    "print('질문 : ',quesition_list[44])\n",
    "print('답변 : ', response_text)"
   ]
  },
  {
   "cell_type": "code",
   "execution_count": null,
   "metadata": {},
   "outputs": [],
   "source": [
    "message = [{\n",
    "            'role' : 'user',\n",
    "            'content' : quesition_list[91]}\n",
    "            ]\n",
    "completion = client.chat.completions.create(model='gpt-3.5-turbo', messages=message)\n",
    "response_text = completion.choices[0].message.content\n",
    "\n",
    "print('질문 : ',quesition_list[91])\n",
    "print('답변 : ', response_text)"
   ]
  },
  {
   "cell_type": "code",
   "execution_count": null,
   "metadata": {},
   "outputs": [],
   "source": []
  }
 ],
 "metadata": {
  "kernelspec": {
   "display_name": "py39",
   "language": "python",
   "name": "python3"
  },
  "language_info": {
   "codemirror_mode": {
    "name": "ipython",
    "version": 3
   },
   "file_extension": ".py",
   "mimetype": "text/x-python",
   "name": "python",
   "nbconvert_exporter": "python",
   "pygments_lexer": "ipython3",
   "version": "3.9.17"
  }
 },
 "nbformat": 4,
 "nbformat_minor": 2
}
